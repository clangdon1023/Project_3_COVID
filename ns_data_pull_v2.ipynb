{
 "cells": [
  {
   "cell_type": "code",
   "execution_count": 1,
   "id": "56cb2343",
   "metadata": {},
   "outputs": [],
   "source": [
    "from sqlalchemy import create_engine\n",
    "import csv\n",
    "import sqlite3\n",
    "import pandas as pd\n",
    "from pathlib import Path\n",
    "import sqlalchemy\n",
    "from sqlalchemy.ext.automap import automap_base\n",
    "from sqlalchemy.orm import Session"
   ]
  },
  {
   "cell_type": "code",
   "execution_count": 2,
   "id": "f93f3a13",
   "metadata": {},
   "outputs": [],
   "source": [
    "clean = pd.read_csv('covid_19_clean_complete.csv', header = 0)\n",
    "worldometer = pd.read_csv('worldometer_data.csv', header = 0)\n",
    "usa_country = pd.read_csv('usa_county_wise.csv', header = 0)\n",
    "full_grouped = pd.read_csv('full_grouped.csv', header = 0)\n",
    "day_wise = pd.read_csv('day_wise.csv', header = 0)\n",
    "country_wise = pd.read_csv('country_wise_latest.csv', header = 0)"
   ]
  },
  {
   "cell_type": "code",
   "execution_count": 3,
   "id": "420d73ce",
   "metadata": {},
   "outputs": [],
   "source": [
    "clean = clean.rename(columns = {'Province/State':'State_Province','Country/Region':'Country_Region'})\n",
    "worldometer = worldometer.rename(columns = {'Country/Region':'Country_Region','Tot Cases/1M pop':'Tot_Cases_per_1M_pop','Deaths/1M pop':'Deaths_per_1M_pop',\n",
    "                                           'Tests/1M pop':'Tests_per_1M_pop','Serious,Critical':'Serious_Critical','WHO Region':'WHO_Region'})\n",
    "day_wise = day_wise.rename(columns = {'Deaths / 100 Cases':'Deaths_per_100_Cases','Recovered / 100 Cases':'Recovered_per_100_Cases',\n",
    "                                     'Deaths / 100 Recovered':'Deaths_per_100_Recovered'})\n",
    "country_wise = country_wise.rename(columns = {'Country/Region':'Country_Region','Deaths / 100 Cases':'Deaths_per_100_Cases','Recovered / 100 Cases':'Recovered_per_100_Cases',\n",
    "                                     'Deaths / 100 Recovered':'Deaths_per_100_Recovered'})\n",
    "full_grouped = full_grouped.rename(columns = {'Country/Region':'Country_Region','New cases':'New_cases','New deaths':'New_deaths','New recovered':'New_recovered','WHO Region':'WHO_Region'})"
   ]
  },
  {
   "cell_type": "code",
   "execution_count": 4,
   "id": "48eb6770",
   "metadata": {},
   "outputs": [
    {
     "data": {
      "text/html": [
       "<div>\n",
       "<style scoped>\n",
       "    .dataframe tbody tr th:only-of-type {\n",
       "        vertical-align: middle;\n",
       "    }\n",
       "\n",
       "    .dataframe tbody tr th {\n",
       "        vertical-align: top;\n",
       "    }\n",
       "\n",
       "    .dataframe thead th {\n",
       "        text-align: right;\n",
       "    }\n",
       "</style>\n",
       "<table border=\"1\" class=\"dataframe\">\n",
       "  <thead>\n",
       "    <tr style=\"text-align: right;\">\n",
       "      <th></th>\n",
       "      <th>Date</th>\n",
       "      <th>Country_Region</th>\n",
       "      <th>Confirmed</th>\n",
       "      <th>Deaths</th>\n",
       "      <th>Recovered</th>\n",
       "      <th>Active</th>\n",
       "      <th>New_cases</th>\n",
       "      <th>New_deaths</th>\n",
       "      <th>New_recovered</th>\n",
       "      <th>WHO_Region</th>\n",
       "    </tr>\n",
       "  </thead>\n",
       "  <tbody>\n",
       "    <tr>\n",
       "      <th>0</th>\n",
       "      <td>2020-01-22</td>\n",
       "      <td>Afghanistan</td>\n",
       "      <td>0</td>\n",
       "      <td>0</td>\n",
       "      <td>0</td>\n",
       "      <td>0</td>\n",
       "      <td>0</td>\n",
       "      <td>0</td>\n",
       "      <td>0</td>\n",
       "      <td>Eastern Mediterranean</td>\n",
       "    </tr>\n",
       "    <tr>\n",
       "      <th>1</th>\n",
       "      <td>2020-01-22</td>\n",
       "      <td>Albania</td>\n",
       "      <td>0</td>\n",
       "      <td>0</td>\n",
       "      <td>0</td>\n",
       "      <td>0</td>\n",
       "      <td>0</td>\n",
       "      <td>0</td>\n",
       "      <td>0</td>\n",
       "      <td>Europe</td>\n",
       "    </tr>\n",
       "    <tr>\n",
       "      <th>2</th>\n",
       "      <td>2020-01-22</td>\n",
       "      <td>Algeria</td>\n",
       "      <td>0</td>\n",
       "      <td>0</td>\n",
       "      <td>0</td>\n",
       "      <td>0</td>\n",
       "      <td>0</td>\n",
       "      <td>0</td>\n",
       "      <td>0</td>\n",
       "      <td>Africa</td>\n",
       "    </tr>\n",
       "    <tr>\n",
       "      <th>3</th>\n",
       "      <td>2020-01-22</td>\n",
       "      <td>Andorra</td>\n",
       "      <td>0</td>\n",
       "      <td>0</td>\n",
       "      <td>0</td>\n",
       "      <td>0</td>\n",
       "      <td>0</td>\n",
       "      <td>0</td>\n",
       "      <td>0</td>\n",
       "      <td>Europe</td>\n",
       "    </tr>\n",
       "    <tr>\n",
       "      <th>4</th>\n",
       "      <td>2020-01-22</td>\n",
       "      <td>Angola</td>\n",
       "      <td>0</td>\n",
       "      <td>0</td>\n",
       "      <td>0</td>\n",
       "      <td>0</td>\n",
       "      <td>0</td>\n",
       "      <td>0</td>\n",
       "      <td>0</td>\n",
       "      <td>Africa</td>\n",
       "    </tr>\n",
       "  </tbody>\n",
       "</table>\n",
       "</div>"
      ],
      "text/plain": [
       "         Date Country_Region  Confirmed  Deaths  Recovered  Active  New_cases  \\\n",
       "0  2020-01-22    Afghanistan          0       0          0       0          0   \n",
       "1  2020-01-22        Albania          0       0          0       0          0   \n",
       "2  2020-01-22        Algeria          0       0          0       0          0   \n",
       "3  2020-01-22        Andorra          0       0          0       0          0   \n",
       "4  2020-01-22         Angola          0       0          0       0          0   \n",
       "\n",
       "   New_deaths  New_recovered             WHO_Region  \n",
       "0           0              0  Eastern Mediterranean  \n",
       "1           0              0                 Europe  \n",
       "2           0              0                 Africa  \n",
       "3           0              0                 Europe  \n",
       "4           0              0                 Africa  "
      ]
     },
     "execution_count": 4,
     "metadata": {},
     "output_type": "execute_result"
    }
   ],
   "source": [
    "full_grouped.head()"
   ]
  },
  {
   "cell_type": "code",
   "execution_count": 5,
   "id": "0f0070ce",
   "metadata": {},
   "outputs": [],
   "source": [
    "# Import modules to declare columns and column data types\n",
    "from sqlalchemy import Column, Integer, String, Float"
   ]
  },
  {
   "cell_type": "code",
   "execution_count": 6,
   "id": "27dce5ca",
   "metadata": {
    "scrolled": true
   },
   "outputs": [],
   "source": [
    "from sqlalchemy.ext.declarative import declarative_base\n",
    "Base = declarative_base()"
   ]
  },
  {
   "cell_type": "code",
   "execution_count": 7,
   "id": "ab7fbc8c",
   "metadata": {},
   "outputs": [],
   "source": [
    "class fullgrouped (Base):\n",
    "    __tablename__ ='fullgrouped'\n",
    "    Id = Column(Integer, primary_key=True)\n",
    "    Date = Column(String)\n",
    "    Country_Region = Column(String)\n",
    "    Confirmed = Column(String)\n",
    "    Deaths = Column(Integer)\n",
    "    Recovered = Column(Integer)\n",
    "    Active = Column(Integer)\n",
    "    New_cases = Column(Integer)\n",
    "    New_deaths = Column(Integer)\n",
    "    New_recovered = Column(Integer)\n",
    "    WHO_Region = Column(String)"
   ]
  },
  {
   "cell_type": "code",
   "execution_count": 8,
   "id": "1f579dea",
   "metadata": {},
   "outputs": [],
   "source": [
    "class countrywise (Base):\n",
    "    __tablename__ = 'countrywise'\n",
    "    id = Column(Integer, primary_key=True)\n",
    "    Country_Region = Column(String)\n",
    "    Confirmed  = Column(Integer)\n",
    "    Deaths  = Column(Integer)\n",
    "    Recovered = Column(Integer)\n",
    "    UID  = Column(Integer)\n",
    "    iso2 = Column(String)\n",
    "    iso3 = Column(String)\n",
    "    code3 = Column(Integer)\n",
    "    FIPS = Column(Float)\n",
    "    Admin2 = Column(String)\n",
    "    Province_State = Column(String)\n",
    "    \n",
    "    Lat = Column(Float)\n",
    "    Long_ = Column(Float)\n",
    "    Combined_Key = Column(String) \n",
    "    Date = Column(String)\n",
    "    \n",
    "    "
   ]
  },
  {
   "cell_type": "code",
   "execution_count": 9,
   "id": "b4dcf44f",
   "metadata": {},
   "outputs": [],
   "source": [
    "class usacountry (Base):\n",
    "    __tablename__ = 'usacountry'\n",
    "    id = Column(Integer, primary_key=True)\n",
    "    UID  = Column(Integer)\n",
    "    iso2 = Column(String)\n",
    "    iso3 = Column(String)\n",
    "    code3 = Column(Integer)\n",
    "    FIPS = Column(Float)\n",
    "    Admin2 = Column(String)\n",
    "    Province_State = Column(String)\n",
    "    Country_Region = Column(String)\n",
    "    Lat = Column(Float)\n",
    "    Long_ = Column(Float)\n",
    "    Combined_Key = Column(String) \n",
    "    Date = Column(String)\n",
    "    Confirmed  = Column(Integer)\n",
    "    Deaths  = Column(Integer)"
   ]
  },
  {
   "cell_type": "code",
   "execution_count": 10,
   "id": "4f4d3019",
   "metadata": {},
   "outputs": [],
   "source": [
    "class clean (Base):\n",
    "    __tablename__ = 'clean'\n",
    "    id = Column(Integer, primary_key=True)\n",
    "    Province_State = Column(String)\n",
    "    Country_Region = Column(String)\n",
    "    Lat = Column(Float)\n",
    "    Long = Column(Float)\n",
    "    Date = Column(String)\n",
    "    Confirmed = Column(Integer)\n",
    "    Deaths = Column(Integer)\n",
    "    Recovered = Column(Integer)\n",
    "    Active = Column(Integer)\n",
    "    WHO_Region = Column(String)"
   ]
  },
  {
   "cell_type": "code",
   "execution_count": 11,
   "id": "538fc627",
   "metadata": {},
   "outputs": [],
   "source": [
    "class worldometer (Base):\n",
    "    __tablename__ = 'worldometer'\n",
    "    id = Column(Integer, primary_key=True)\n",
    "    Country_Region = Column(String)\n",
    "    Continent = Column(String)\n",
    "    Population = Column(Integer)\n",
    "    TotalCases = Column(Integer)\n",
    "    NewCases  = Column(Integer)\n",
    "    TotalDeaths  = Column(Integer)\n",
    "    NewDeaths  = Column(Integer)\n",
    "    TotalRecovered  = Column(Integer)\n",
    "    NewRecovered  = Column(Integer)\n",
    "    ActiveCases  = Column(Integer)\n",
    "    Serious_Critical  = Column(Integer)\n",
    "    Tot_Cases_per_1M_pop  = Column(Integer)\n",
    "    Deaths_per_1M_pop  = Column(Integer)\n",
    "    TotalTests  = Column(Integer)\n",
    "    Tests_per_1M_pop  = Column(Integer)\n",
    "    WHO_Region = Column(String)"
   ]
  },
  {
   "cell_type": "code",
   "execution_count": 12,
   "id": "4c634ffa",
   "metadata": {},
   "outputs": [],
   "source": [
    "engine = create_engine(\"sqlite:///clean.sqlite\")\n",
    "conn = engine.connect()"
   ]
  },
  {
   "cell_type": "code",
   "execution_count": 13,
   "id": "5959f520",
   "metadata": {},
   "outputs": [],
   "source": [
    "# Create tables within the database\n",
    "Base.metadata.create_all(conn)"
   ]
  },
  {
   "cell_type": "code",
   "execution_count": 14,
   "id": "b922a88e",
   "metadata": {},
   "outputs": [
    {
     "data": {
      "text/plain": [
       "FacadeDict({'fullgrouped': Table('fullgrouped', MetaData(), Column('Id', Integer(), table=<fullgrouped>, primary_key=True, nullable=False), Column('Date', String(), table=<fullgrouped>), Column('Country_Region', String(), table=<fullgrouped>), Column('Confirmed', String(), table=<fullgrouped>), Column('Deaths', Integer(), table=<fullgrouped>), Column('Recovered', Integer(), table=<fullgrouped>), Column('Active', Integer(), table=<fullgrouped>), Column('New_cases', Integer(), table=<fullgrouped>), Column('New_deaths', Integer(), table=<fullgrouped>), Column('New_recovered', Integer(), table=<fullgrouped>), Column('WHO_Region', String(), table=<fullgrouped>), schema=None), 'countrywise': Table('countrywise', MetaData(), Column('id', Integer(), table=<countrywise>, primary_key=True, nullable=False), Column('Country_Region', String(), table=<countrywise>), Column('Confirmed', Integer(), table=<countrywise>), Column('Deaths', Integer(), table=<countrywise>), Column('Recovered', Integer(), table=<countrywise>), Column('UID', Integer(), table=<countrywise>), Column('iso2', String(), table=<countrywise>), Column('iso3', String(), table=<countrywise>), Column('code3', Integer(), table=<countrywise>), Column('FIPS', Float(), table=<countrywise>), Column('Admin2', String(), table=<countrywise>), Column('Province_State', String(), table=<countrywise>), Column('Lat', Float(), table=<countrywise>), Column('Long_', Float(), table=<countrywise>), Column('Combined_Key', String(), table=<countrywise>), Column('Date', String(), table=<countrywise>), schema=None), 'usacountry': Table('usacountry', MetaData(), Column('id', Integer(), table=<usacountry>, primary_key=True, nullable=False), Column('UID', Integer(), table=<usacountry>), Column('iso2', String(), table=<usacountry>), Column('iso3', String(), table=<usacountry>), Column('code3', Integer(), table=<usacountry>), Column('FIPS', Float(), table=<usacountry>), Column('Admin2', String(), table=<usacountry>), Column('Province_State', String(), table=<usacountry>), Column('Country_Region', String(), table=<usacountry>), Column('Lat', Float(), table=<usacountry>), Column('Long_', Float(), table=<usacountry>), Column('Combined_Key', String(), table=<usacountry>), Column('Date', String(), table=<usacountry>), Column('Confirmed', Integer(), table=<usacountry>), Column('Deaths', Integer(), table=<usacountry>), schema=None), 'clean': Table('clean', MetaData(), Column('id', Integer(), table=<clean>, primary_key=True, nullable=False), Column('Province_State', String(), table=<clean>), Column('Country_Region', String(), table=<clean>), Column('Lat', Float(), table=<clean>), Column('Long', Float(), table=<clean>), Column('Date', String(), table=<clean>), Column('Confirmed', Integer(), table=<clean>), Column('Deaths', Integer(), table=<clean>), Column('Recovered', Integer(), table=<clean>), Column('Active', Integer(), table=<clean>), Column('WHO_Region', String(), table=<clean>), schema=None), 'worldometer': Table('worldometer', MetaData(), Column('id', Integer(), table=<worldometer>, primary_key=True, nullable=False), Column('Country_Region', String(), table=<worldometer>), Column('Continent', String(), table=<worldometer>), Column('Population', Integer(), table=<worldometer>), Column('TotalCases', Integer(), table=<worldometer>), Column('NewCases', Integer(), table=<worldometer>), Column('TotalDeaths', Integer(), table=<worldometer>), Column('NewDeaths', Integer(), table=<worldometer>), Column('TotalRecovered', Integer(), table=<worldometer>), Column('NewRecovered', Integer(), table=<worldometer>), Column('ActiveCases', Integer(), table=<worldometer>), Column('Serious_Critical', Integer(), table=<worldometer>), Column('Tot_Cases_per_1M_pop', Integer(), table=<worldometer>), Column('Deaths_per_1M_pop', Integer(), table=<worldometer>), Column('TotalTests', Integer(), table=<worldometer>), Column('Tests_per_1M_pop', Integer(), table=<worldometer>), Column('WHO_Region', String(), table=<worldometer>), schema=None)})"
      ]
     },
     "execution_count": 14,
     "metadata": {},
     "output_type": "execute_result"
    }
   ],
   "source": [
    "Base.metadata.tables"
   ]
  },
  {
   "cell_type": "code",
   "execution_count": 15,
   "id": "d878f3d2",
   "metadata": {},
   "outputs": [],
   "source": [
    "Base = automap_base()\n",
    "Base.prepare(engine,reflect=True)\n"
   ]
  },
  {
   "cell_type": "code",
   "execution_count": 16,
   "id": "a2bd8794",
   "metadata": {},
   "outputs": [
    {
     "data": {
      "text/plain": [
       "['clean', 'countrywise', 'fullgrouped', 'usacountry', 'worldometer']"
      ]
     },
     "execution_count": 16,
     "metadata": {},
     "output_type": "execute_result"
    }
   ],
   "source": [
    "Base.classes.keys()"
   ]
  },
  {
   "cell_type": "code",
   "execution_count": 17,
   "id": "13d921ce",
   "metadata": {},
   "outputs": [],
   "source": [
    "connection = sqlite3.connect('clean.sqlite')"
   ]
  },
  {
   "cell_type": "code",
   "execution_count": 18,
   "id": "13dc8050",
   "metadata": {},
   "outputs": [],
   "source": [
    "cursor = connection.cursor()"
   ]
  },
  {
   "cell_type": "code",
   "execution_count": 19,
   "id": "4a904b50",
   "metadata": {},
   "outputs": [],
   "source": [
    "with open(\"covid_19_clean_complete.csv\",\"r\") as file:\n",
    "    contents = list(csv.reader(file))"
   ]
  },
  {
   "cell_type": "code",
   "execution_count": 20,
   "id": "a6d404aa",
   "metadata": {},
   "outputs": [],
   "source": [
    "with open(\"worldometer_data.csv\",\"r\") as file:\n",
    "    contents2 = list(csv.reader(file))"
   ]
  },
  {
   "cell_type": "code",
   "execution_count": 21,
   "id": "64876e70",
   "metadata": {},
   "outputs": [],
   "source": [
    "with open(\"usa_county_wise.csv\",\"r\") as file:\n",
    "    contents3 = list(csv.reader(file))"
   ]
  },
  {
   "cell_type": "code",
   "execution_count": 22,
   "id": "ea47ff64",
   "metadata": {},
   "outputs": [],
   "source": [
    "with open(\"full_grouped.csv\",\"r\") as file:\n",
    "    contents4 = list(csv.reader(file))"
   ]
  },
  {
   "cell_type": "code",
   "execution_count": 23,
   "id": "ffe213c0",
   "metadata": {},
   "outputs": [],
   "source": [
    "insert_records_clean = \"INSERT INTO clean (Province_State, Country_Region, Lat, Long, Date, Confirmed, Deaths, Recovered, Active, WHO_Region) VALUES (?, ?, ?, ?, ?, ?, ?, ?, ?, ?)\""
   ]
  },
  {
   "cell_type": "code",
   "execution_count": 24,
   "id": "3ff0578d",
   "metadata": {},
   "outputs": [],
   "source": [
    "insert_records_world= \"INSERT INTO worldometer ('Country_Region','Continent','Population','TotalCases','NewCases','TotalDeaths','NewDeaths','TotalRecovered','NewRecovered','ActiveCases','Serious_Critical','Tot_Cases_per_1M_pop','Deaths_per_1M_pop','TotalTests','Tests_per_1M_pop','WHO_Region') VALUES (?, ?, ?, ?, ?, ?, ?, ?, ?, ?, ?, ?, ?, ?, ?, ?)\""
   ]
  },
  {
   "cell_type": "code",
   "execution_count": 25,
   "id": "9e77d001",
   "metadata": {},
   "outputs": [],
   "source": [
    "insert_records_usa = \"INSERT INTO usacountry ('UID','iso2','iso3','code3','FIPS','Admin2','Province_State','Country_Region','Lat','Long_','Combined_Key','Date','Confirmed','Deaths') VALUES (?, ?, ?, ?, ?, ?, ?, ?, ?, ?, ?, ?, ?, ?)\""
   ]
  },
  {
   "cell_type": "code",
   "execution_count": 34,
   "id": "74b6e5bc",
   "metadata": {},
   "outputs": [],
   "source": [
    "insert_records_fullgrouped = \"INSERT INTO fullgrouped ('Date', 'Country_Region', 'Confirmed', 'Deaths', 'Recovered', 'Active','New_cases', 'New_deaths', 'New_recovered', 'WHO_Region') VALUES (?, ?, ?, ?, ?, ?, ?, ?, ?, ?)\""
   ]
  },
  {
   "cell_type": "code",
   "execution_count": 27,
   "id": "66331b17",
   "metadata": {
    "scrolled": true
   },
   "outputs": [
    {
     "data": {
      "text/plain": [
       "<sqlite3.Cursor at 0x233c92e3f40>"
      ]
     },
     "execution_count": 27,
     "metadata": {},
     "output_type": "execute_result"
    }
   ],
   "source": [
    "cursor.executemany(insert_records_clean, contents)"
   ]
  },
  {
   "cell_type": "code",
   "execution_count": 28,
   "id": "2b50b22b",
   "metadata": {},
   "outputs": [
    {
     "data": {
      "text/plain": [
       "<sqlite3.Cursor at 0x233c92e3f40>"
      ]
     },
     "execution_count": 28,
     "metadata": {},
     "output_type": "execute_result"
    }
   ],
   "source": [
    "cursor.executemany(insert_records_world, contents2)"
   ]
  },
  {
   "cell_type": "code",
   "execution_count": 29,
   "id": "620bfb72",
   "metadata": {},
   "outputs": [
    {
     "data": {
      "text/plain": [
       "<sqlite3.Cursor at 0x233c92e3f40>"
      ]
     },
     "execution_count": 29,
     "metadata": {},
     "output_type": "execute_result"
    }
   ],
   "source": [
    "cursor.executemany(insert_records_usa, contents3)"
   ]
  },
  {
   "cell_type": "code",
   "execution_count": 35,
   "id": "297df6b5",
   "metadata": {
    "scrolled": true
   },
   "outputs": [
    {
     "data": {
      "text/plain": [
       "<sqlite3.Cursor at 0x233c92e3f40>"
      ]
     },
     "execution_count": 35,
     "metadata": {},
     "output_type": "execute_result"
    }
   ],
   "source": [
    "cursor.executemany(insert_records_fullgrouped, contents4)"
   ]
  },
  {
   "cell_type": "code",
   "execution_count": 31,
   "id": "c6286ec0",
   "metadata": {},
   "outputs": [],
   "source": [
    "select_all = \"SELECT * FROM clean\"\n",
    "rows = cursor.execute(select_all).fetchall()"
   ]
  },
  {
   "cell_type": "code",
   "execution_count": 32,
   "id": "094fa191",
   "metadata": {},
   "outputs": [],
   "source": [
    "select_all2 = \"SELECT * FROM worldometer\"\n",
    "rows2 = cursor.execute(select_all2).fetchall()"
   ]
  },
  {
   "cell_type": "code",
   "execution_count": 33,
   "id": "1c5125e5",
   "metadata": {},
   "outputs": [],
   "source": [
    "select_all3 = \"SELECT * FROM usacountry\"\n",
    "rows3 = cursor.execute(select_all3).fetchall()"
   ]
  },
  {
   "cell_type": "code",
   "execution_count": 36,
   "id": "db3be34b",
   "metadata": {},
   "outputs": [],
   "source": [
    "select_all4 = \"SELECT * FROM fullgrouped\"\n",
    "rows4 = cursor.execute(select_all4).fetchall()"
   ]
  },
  {
   "cell_type": "code",
   "execution_count": null,
   "id": "0432dc6c",
   "metadata": {},
   "outputs": [],
   "source": [
    "rows3"
   ]
  },
  {
   "cell_type": "code",
   "execution_count": null,
   "id": "32d7cd4c",
   "metadata": {},
   "outputs": [],
   "source": [
    "rows2"
   ]
  },
  {
   "cell_type": "code",
   "execution_count": null,
   "id": "8d94974b",
   "metadata": {},
   "outputs": [],
   "source": [
    "rows"
   ]
  },
  {
   "cell_type": "code",
   "execution_count": 37,
   "id": "f261db5e",
   "metadata": {},
   "outputs": [],
   "source": [
    "connection.commit()"
   ]
  },
  {
   "cell_type": "code",
   "execution_count": null,
   "id": "cf007894",
   "metadata": {},
   "outputs": [],
   "source": []
  }
 ],
 "metadata": {
  "kernelspec": {
   "display_name": "Python 3 (ipykernel)",
   "language": "python",
   "name": "python3"
  },
  "language_info": {
   "codemirror_mode": {
    "name": "ipython",
    "version": 3
   },
   "file_extension": ".py",
   "mimetype": "text/x-python",
   "name": "python",
   "nbconvert_exporter": "python",
   "pygments_lexer": "ipython3",
   "version": "3.10.11"
  }
 },
 "nbformat": 4,
 "nbformat_minor": 5
}
